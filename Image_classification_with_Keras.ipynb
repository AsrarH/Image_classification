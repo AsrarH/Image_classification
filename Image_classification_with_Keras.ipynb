{
  "nbformat": 4,
  "nbformat_minor": 0,
  "metadata": {
    "colab": {
      "name": "Untitled1.ipynb",
      "provenance": [],
      "authorship_tag": "ABX9TyOES0yGpaChrroWmLQHVX7I",
      "include_colab_link": true
    },
    "kernelspec": {
      "name": "python3",
      "display_name": "Python 3"
    }
  },
  "cells": [
    {
      "cell_type": "markdown",
      "metadata": {
        "id": "view-in-github",
        "colab_type": "text"
      },
      "source": [
        "<a href=\"https://colab.research.google.com/github/AsrarH/Image_classification/blob/master/Image_classification_with_Keras.ipynb\" target=\"_parent\"><img src=\"https://colab.research.google.com/assets/colab-badge.svg\" alt=\"Open In Colab\"/></a>"
      ]
    },
    {
      "cell_type": "code",
      "metadata": {
        "id": "0UlT1gFdO8ot",
        "colab_type": "code",
        "colab": {
          "base_uri": "https://localhost:8080/",
          "height": 34
        },
        "outputId": "4e59f804-59c2-4ae2-9421-1c9ed604f80d"
      },
      "source": [
        "#importing the necessary modules\n",
        "from keras.datasets import mnist\n",
        "import numpy as np"
      ],
      "execution_count": 1,
      "outputs": [
        {
          "output_type": "stream",
          "text": [
            "Using TensorFlow backend.\n"
          ],
          "name": "stderr"
        }
      ]
    },
    {
      "cell_type": "code",
      "metadata": {
        "id": "cRewV6KFPO1Q",
        "colab_type": "code",
        "colab": {
          "base_uri": "https://localhost:8080/",
          "height": 51
        },
        "outputId": "2082b2c2-0497-4111-b2a5-fc7ab8a440a3"
      },
      "source": [
        "\n",
        "#loading data\n",
        "(xtrain,ytrain),(xtest,ytest)=mnist.load_data()"
      ],
      "execution_count": 2,
      "outputs": [
        {
          "output_type": "stream",
          "text": [
            "Downloading data from https://s3.amazonaws.com/img-datasets/mnist.npz\n",
            "11493376/11490434 [==============================] - 1s 0us/step\n"
          ],
          "name": "stdout"
        }
      ]
    },
    {
      "cell_type": "code",
      "metadata": {
        "id": "c071DcbEPS6o",
        "colab_type": "code",
        "colab": {
          "base_uri": "https://localhost:8080/",
          "height": 299
        },
        "outputId": "886f908d-50f2-46bc-d90d-0d244a2aab56"
      },
      "source": [
        "#What mnist images look like\n",
        "import matplotlib.pyplot as plt\n",
        "print(\"Training data:\")\n",
        "plt.imshow(xtrain[4])\n",
        "plt.show()\n",
        "print(\"Label of this image is\",ytrain[4])"
      ],
      "execution_count": 3,
      "outputs": [
        {
          "output_type": "stream",
          "text": [
            "Training data:\n"
          ],
          "name": "stdout"
        },
        {
          "output_type": "display_data",
          "data": {
            "image/png": "[encoded data removed]",
            "text/plain": [
              "<Figure size 432x288 with 1 Axes>"
            ]
          },
          "metadata": {
            "tags": [],
            "needs_background": "light"
          }
        },
        {
          "output_type": "stream",
          "text": [
            "Label of this image is 9\n"
          ],
          "name": "stdout"
        }
      ]
    },
    {
      "cell_type": "code",
      "metadata": {
        "id": "dglroCGgPfl2",
        "colab_type": "code",
        "colab": {
          "base_uri": "https://localhost:8080/",
          "height": 34
        },
        "outputId": "15d3de86-1c46-4254-97ce-7873eb6c0877"
      },
      "source": [
        "#reshaping data as needed by the model\n",
        "xtrain=np.reshape(xtrain,(-1,28,28,1))\n",
        "xtest=np.reshape(xtest,(-1,28,28,1))\n",
        "xtrain.shape,xtest.shape,ytrain.shape,ytest.shape"
      ],
      "execution_count": 4,
      "outputs": [
        {
          "output_type": "execute_result",
          "data": {
            "text/plain": [
              "((60000, 28, 28, 1), (10000, 28, 28, 1), (60000,), (10000,))"
            ]
          },
          "metadata": {
            "tags": []
          },
          "execution_count": 4
        }
      ]
    },
    {
      "cell_type": "code",
      "metadata": {
        "id": "SNFZZloAPjHb",
        "colab_type": "code",
        "colab": {}
      },
      "source": [
        "#normalising\n",
        "xtrain=xtrain/255\n",
        "xtest=xtest/255"
      ],
      "execution_count": 5,
      "outputs": []
    },
    {
      "cell_type": "code",
      "metadata": {
        "id": "w54eWBpQPnuJ",
        "colab_type": "code",
        "colab": {}
      },
      "source": [
        "#implementing one hot encoding\n",
        "from keras.utils.np_utils import to_categorical\n",
        "y_train = to_categorical(ytrain, num_classes=10)\n",
        "y_test = to_categorical(ytest, num_classes=10)"
      ],
      "execution_count": 7,
      "outputs": []
    },
    {
      "cell_type": "code",
      "metadata": {
        "id": "zGDfFk_XPsHi",
        "colab_type": "code",
        "colab": {}
      },
      "source": [
        "#importing the model\n",
        "from keras.models import Sequential"
      ],
      "execution_count": 8,
      "outputs": []
    },
    {
      "cell_type": "code",
      "metadata": {
        "id": "3qfPgF4XP0Y3",
        "colab_type": "code",
        "colab": {}
      },
      "source": [
        "#creating model object\n",
        "model=Sequential()"
      ],
      "execution_count": 9,
      "outputs": []
    },
    {
      "cell_type": "code",
      "metadata": {
        "id": "L0qWSe97P16q",
        "colab_type": "code",
        "colab": {}
      },
      "source": [
        "#importing layers\n",
        "from keras.layers import Conv2D,MaxPooling2D,Flatten,Dense,Dropout"
      ],
      "execution_count": 10,
      "outputs": []
    },
    {
      "cell_type": "code",
      "metadata": {
        "id": "lLoA5qo9P6io",
        "colab_type": "code",
        "colab": {}
      },
      "source": [
        "#adding layers and forming the model\n",
        "model.add(Conv2D(32,kernel_size=5,strides=1,padding=\"Same\",activation=\"relu\",input_shape=(28,28,1)))\n",
        "model.add(MaxPooling2D(padding=\"same\"))\n",
        "\n",
        "model.add(Conv2D(64,kernel_size=5,strides=1,padding=\"same\",activation=\"relu\"))\n",
        "model.add(MaxPooling2D(padding=\"same\"))\n",
        "\n",
        "model.add(Flatten())\n",
        "\n",
        "model.add(Dense(1024,activation=\"relu\"))\n",
        "model.add(Dropout(0.2))\n",
        "model.add(Dense(10,activation=\"sigmoid\"))"
      ],
      "execution_count": 11,
      "outputs": []
    },
    {
      "cell_type": "code",
      "metadata": {
        "id": "WqwFHXdnP-PP",
        "colab_type": "code",
        "colab": {}
      },
      "source": [
        "#compiling\n",
        "model.compile(optimizer=\"adam\",loss=\"categorical_crossentropy\",metrics=[\"accuracy\"])"
      ],
      "execution_count": 12,
      "outputs": []
    },
    {
      "cell_type": "code",
      "metadata": {
        "id": "eIUW8iCaQE1-",
        "colab_type": "code",
        "colab": {
          "base_uri": "https://localhost:8080/",
          "height": 221
        },
        "outputId": "a15fcc94-03ed-44b0-eb93-d50f83cae6e2"
      },
      "source": [
        "#training the model\n",
        "model.fit(xtrain,y_train,batch_size=100,epochs=5,validation_data=(xtest,y_test))"
      ],
      "execution_count": 13,
      "outputs": [
        {
          "output_type": "stream",
          "text": [
            "Train on 60000 samples, validate on 10000 samples\n",
            "Epoch 1/5\n",
            "60000/60000 [==============================] - 157s 3ms/step - loss: 0.1511 - accuracy: 0.9518 - val_loss: 0.0652 - val_accuracy: 0.9796\n",
            "Epoch 2/5\n",
            "60000/60000 [==============================] - 156s 3ms/step - loss: 0.0418 - accuracy: 0.9872 - val_loss: 0.0285 - val_accuracy: 0.9904\n",
            "Epoch 3/5\n",
            "60000/60000 [==============================] - 155s 3ms/step - loss: 0.0281 - accuracy: 0.9913 - val_loss: 0.0271 - val_accuracy: 0.9913\n",
            "Epoch 4/5\n",
            "60000/60000 [==============================] - 156s 3ms/step - loss: 0.0210 - accuracy: 0.9936 - val_loss: 0.0245 - val_accuracy: 0.9919\n",
            "Epoch 5/5\n",
            "60000/60000 [==============================] - 157s 3ms/step - loss: 0.0169 - accuracy: 0.9948 - val_loss: 0.0269 - val_accuracy: 0.9909\n"
          ],
          "name": "stdout"
        },
        {
          "output_type": "execute_result",
          "data": {
            "text/plain": [
              "<keras.callbacks.callbacks.History at 0x7f569a2fbac8>"
            ]
          },
          "metadata": {
            "tags": []
          },
          "execution_count": 13
        }
      ]
    },
    {
      "cell_type": "code",
      "metadata": {
        "id": "qimcRTtsTLah",
        "colab_type": "code",
        "colab": {
          "base_uri": "https://localhost:8080/",
          "height": 119
        },
        "outputId": "3779b6c8-9932-4c23-99b4-9341e5feaf2f"
      },
      "source": [
        "#model train and test scores\n",
        "train_loss, train_accuracy = model.evaluate(xtrain,y_train)\n",
        "print('test data loss:', train_loss)\n",
        "print('test data accuracy', train_accuracy * 100)\n",
        "\n",
        "test_loss, test_accuracy = model.evaluate(xtest,y_test)\n",
        "print('test data loss:', test_loss)\n",
        "print('test data accuracy', test_accuracy * 100)"
      ],
      "execution_count": 20,
      "outputs": [
        {
          "output_type": "stream",
          "text": [
            "60000/60000 [==============================] - 43s 709us/step\n",
            "test data loss: 0.014297585274201507\n",
            "test data accuracy 99.57000017166138\n",
            "10000/10000 [==============================] - 7s 708us/step\n",
            "test data loss: 0.02686886332911672\n",
            "test data accuracy 99.08999800682068\n"
          ],
          "name": "stdout"
        }
      ]
    }
  ]
}